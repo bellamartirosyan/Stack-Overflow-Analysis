{
 "cells": [
  {
   "cell_type": "code",
   "execution_count": null,
   "metadata": {},
   "outputs": [
    {
     "name": "stdout",
     "output_type": "stream",
     "text": [
      "badges_fact created successfully.\n"
     ]
    }
   ],
   "source": [
    "from google.cloud import bigquery\n",
    "\n",
    "client = bigquery.Client()\n",
    "\n",
    "# Define the names of your staging, dimension and fact tables\n",
    "staging_table_name = 'staging_row_badges'\n",
    "fact_table_name = 'badges_fact'\n",
    "\n",
    "# Define the SQL queries to create the dimension and fact tables\n",
    "fact_table_query = f'''\n",
    "CREATE OR REPLACE TABLE `velvety-ring-349218.Stack_Overflow.{fact_table_name}` AS\n",
    "SELECT DISTINCT *\n",
    "FROM `velvety-ring-349218.Stack_Overflow.{staging_table_name}`\n",
    "'''\n",
    "\n",
    "# Run the queries to create the dimension and fact tables\n",
    "\n",
    "fact_table_job = client.query(fact_table_query)\n",
    "\n",
    "# Wait for the jobs to complete\n",
    "fact_table_job.result()\n",
    "\n",
    "# Verify that the tables were created\n",
    "\n",
    "fact_table = client.get_table(f'velvety-ring-349218.Stack_Overflow.{fact_table_name}')\n",
    "\n",
    "print(f'{fact_table_name} created successfully.')\n"
   ]
  },
  {
   "cell_type": "code",
   "execution_count": null,
   "metadata": {},
   "outputs": [
    {
     "name": "stdout",
     "output_type": "stream",
     "text": [
      "comments_fact created successfully.\n"
     ]
    }
   ],
   "source": [
    "from google.cloud import bigquery\n",
    "\n",
    "client = bigquery.Client()\n",
    "\n",
    "# Define the names of your staging, dimension and fact tables\n",
    "staging_table_name = 'staging_row_comments'\n",
    "fact_table_name = 'comments_fact'\n",
    "\n",
    "# Define the SQL queries to create the dimension and fact tables\n",
    "fact_table_query = f'''\n",
    "CREATE OR REPLACE TABLE `velvety-ring-349218.Stack_Overflow.{fact_table_name}` AS\n",
    "SELECT DISTINCT *\n",
    "FROM `velvety-ring-349218.Stack_Overflow.{staging_table_name}`\n",
    "'''\n",
    "\n",
    "# Run the queries to create the dimension and fact tables\n",
    "\n",
    "fact_table_job = client.query(fact_table_query)\n",
    "\n",
    "# Wait for the jobs to complete\n",
    "fact_table_job.result()\n",
    "\n",
    "# Verify that the tables were created\n",
    "\n",
    "fact_table = client.get_table(f'velvety-ring-349218.Stack_Overflow.{fact_table_name}')\n",
    "\n",
    "print(f'{fact_table_name} created successfully.')\n"
   ]
  },
  {
   "cell_type": "code",
   "execution_count": null,
   "metadata": {},
   "outputs": [
    {
     "name": "stdout",
     "output_type": "stream",
     "text": [
      "post_answers_fact created successfully.\n"
     ]
    }
   ],
   "source": [
    "from google.cloud import bigquery\n",
    "\n",
    "client = bigquery.Client()\n",
    "\n",
    "# Define the names of your staging, dimension and fact tables\n",
    "staging_table_name = 'staging_row_post_answers'\n",
    "fact_table_name = 'post_answers_fact'\n",
    "\n",
    "# Define the SQL queries to create the dimension and fact tables\n",
    "fact_table_query = f'''\n",
    "CREATE OR REPLACE TABLE `velvety-ring-349218.Stack_Overflow.{fact_table_name}` AS\n",
    "SELECT DISTINCT *\n",
    "FROM `velvety-ring-349218.Stack_Overflow.{staging_table_name}`\n",
    "'''\n",
    "\n",
    "# Run the queries to create the dimension and fact tables\n",
    "\n",
    "fact_table_job = client.query(fact_table_query)\n",
    "\n",
    "# Wait for the jobs to complete\n",
    "fact_table_job.result()\n",
    "\n",
    "# Verify that the tables were created\n",
    "\n",
    "fact_table = client.get_table(f'velvety-ring-349218.Stack_Overflow.{fact_table_name}')\n",
    "\n",
    "print(f'{fact_table_name} created successfully.')\n"
   ]
  },
  {
   "cell_type": "code",
   "execution_count": null,
   "metadata": {},
   "outputs": [
    {
     "name": "stdout",
     "output_type": "stream",
     "text": [
      "posts_question_dim created successfully.\n"
     ]
    }
   ],
   "source": [
    "from google.cloud import bigquery\n",
    "\n",
    "client = bigquery.Client()\n",
    "\n",
    "# Define the names of your staging, dimension and fact tables\n",
    "staging_table_name = 'staging_row_posts_question'\n",
    "dim_table_name = 'posts_question_dim'\n",
    "\n",
    "# Define the SQL queries to create the dimension and fact tables\n",
    "dim_table_query = f'''\n",
    "CREATE OR REPLACE TABLE `velvety-ring-349218.Stack_Overflow.{dim_table_name}` AS\n",
    "SELECT DISTINCT *\n",
    "FROM `velvety-ring-349218.Stack_Overflow.{staging_table_name}`\n",
    "'''\n",
    "\n",
    "# Run the queries to create the dimension and fact tables\n",
    "\n",
    "dim_table_job = client.query(dim_table_query)\n",
    "\n",
    "# Wait for the jobs to complete\n",
    "dim_table_job.result()\n",
    "\n",
    "# Verify that the tables were created\n",
    "\n",
    "dim_table = client.get_table(f'velvety-ring-349218.Stack_Overflow.{dim_table_name}')\n",
    "\n",
    "print(f'{dim_table_name} created successfully.')\n"
   ]
  },
  {
   "cell_type": "code",
   "execution_count": null,
   "metadata": {},
   "outputs": [
    {
     "name": "stdout",
     "output_type": "stream",
     "text": [
      "tags_dim created successfully.\n"
     ]
    }
   ],
   "source": [
    "from google.cloud import bigquery\n",
    "\n",
    "client = bigquery.Client()\n",
    "\n",
    "# Define the names of your staging, dimension and fact tables\n",
    "staging_table_name = 'staging_row_tags'\n",
    "dim_table_name = 'tags_dim'\n",
    "\n",
    "# Define the SQL queries to create the dimension and fact tables\n",
    "dim_table_query = f'''\n",
    "CREATE OR REPLACE TABLE `velvety-ring-349218.Stack_Overflow.{dim_table_name}` AS\n",
    "SELECT DISTINCT *\n",
    "FROM `velvety-ring-349218.Stack_Overflow.{staging_table_name}`\n",
    "'''\n",
    "\n",
    "# Run the queries to create the dimension and fact tables\n",
    "\n",
    "dim_table_job = client.query(dim_table_query)\n",
    "\n",
    "# Wait for the jobs to complete\n",
    "dim_table_job.result()\n",
    "\n",
    "# Verify that the tables were created\n",
    "\n",
    "dim_table = client.get_table(f'velvety-ring-349218.Stack_Overflow.{dim_table_name}')\n",
    "\n",
    "print(f'{dim_table_name} created successfully.')\n"
   ]
  },
  {
   "cell_type": "code",
   "execution_count": null,
   "metadata": {},
   "outputs": [
    {
     "name": "stdout",
     "output_type": "stream",
     "text": [
      "users_dim created successfully.\n"
     ]
    }
   ],
   "source": [
    "from google.cloud import bigquery\n",
    "\n",
    "client = bigquery.Client()\n",
    "\n",
    "# Define the names of your staging, dimension and fact tables\n",
    "staging_table_name = 'staging_row_users'\n",
    "dim_table_name = 'users_dim'\n",
    "\n",
    "# Define the SQL queries to create the dimension and fact tables\n",
    "dim_table_query = f'''\n",
    "CREATE OR REPLACE TABLE `velvety-ring-349218.Stack_Overflow.{dim_table_name}` AS\n",
    "SELECT DISTINCT *\n",
    "FROM `velvety-ring-349218.Stack_Overflow.{staging_table_name}`\n",
    "'''\n",
    "\n",
    "# Run the queries to create the dimension and fact tables\n",
    "\n",
    "dim_table_job = client.query(dim_table_query)\n",
    "\n",
    "# Wait for the jobs to complete\n",
    "dim_table_job.result()\n",
    "\n",
    "# Verify that the tables were created\n",
    "\n",
    "dim_table = client.get_table(f'velvety-ring-349218.Stack_Overflow.{dim_table_name}')\n",
    "\n",
    "print(f'{dim_table_name} created successfully.')\n"
   ]
  },
  {
   "cell_type": "code",
   "execution_count": null,
   "metadata": {},
   "outputs": [
    {
     "name": "stdout",
     "output_type": "stream",
     "text": [
      "post_history_fact created successfully.\n"
     ]
    }
   ],
   "source": [
    "from google.cloud import bigquery\n",
    "\n",
    "client = bigquery.Client()\n",
    "\n",
    "# Define the names of your staging, dimension and fact tables\n",
    "staging_table_name = 'staging_row_post_history'\n",
    "fact_table_name = 'post_history_fact'\n",
    "\n",
    "# Define the SQL queries to create the dimension and fact tables\n",
    "fact_table_query = f'''\n",
    "CREATE OR REPLACE TABLE `velvety-ring-349218.Stack_Overflow.{fact_table_name}` AS\n",
    "SELECT DISTINCT *\n",
    "FROM `velvety-ring-349218.Stack_Overflow.{staging_table_name}`\n",
    "'''\n",
    "\n",
    "# Run the queries to create the dimension and fact tables\n",
    "\n",
    "fact_table_job = client.query(fact_table_query)\n",
    "\n",
    "# Wait for the jobs to complete\n",
    "fact_table_job.result()\n",
    "\n",
    "# Verify that the tables were created\n",
    "\n",
    "fact_table = client.get_table(f'velvety-ring-349218.Stack_Overflow.{fact_table_name}')\n",
    "\n",
    "print(f'{fact_table_name} created successfully.')\n"
   ]
  },
  {
   "cell_type": "code",
   "execution_count": 2,
   "metadata": {},
   "outputs": [
    {
     "name": "stdout",
     "output_type": "stream",
     "text": [
      "post_links_fact created successfully.\n"
     ]
    }
   ],
   "source": [
    "from google.cloud import bigquery\n",
    "\n",
    "client = bigquery.Client()\n",
    "\n",
    "# Define the names of your staging, dimension and fact tables\n",
    "staging_table_name = 'staging_row_post_links'\n",
    "fact_table_name = 'post_links_fact'\n",
    "\n",
    "# Define the SQL queries to create the dimension and fact tables\n",
    "fact_table_query = f'''\n",
    "CREATE OR REPLACE TABLE `velvety-ring-349218.Stack_Overflow.{fact_table_name}` AS\n",
    "SELECT DISTINCT *\n",
    "FROM `velvety-ring-349218.Stack_Overflow.{staging_table_name}`\n",
    "'''\n",
    "\n",
    "# Run the queries to create the dimension and fact tables\n",
    "\n",
    "fact_table_job = client.query(fact_table_query)\n",
    "\n",
    "# Wait for the jobs to complete\n",
    "fact_table_job.result()\n",
    "\n",
    "# Verify that the tables were created\n",
    "\n",
    "fact_table = client.get_table(f'velvety-ring-349218.Stack_Overflow.{fact_table_name}')\n",
    "\n",
    "print(f'{fact_table_name} created successfully.')\n"
   ]
  }
 ],
 "metadata": {
  "kernelspec": {
   "display_name": "Python 3",
   "language": "python",
   "name": "python3"
  },
  "language_info": {
   "codemirror_mode": {
    "name": "ipython",
    "version": 3
   },
   "file_extension": ".py",
   "mimetype": "text/x-python",
   "name": "python",
   "nbconvert_exporter": "python",
   "pygments_lexer": "ipython3",
   "version": "3.10.8"
  },
  "orig_nbformat": 4
 },
 "nbformat": 4,
 "nbformat_minor": 2
}
